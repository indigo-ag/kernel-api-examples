{
 "cells": [
  {
   "cell_type": "markdown",
   "metadata": {},
   "source": [
    "# Atlas API For Data Science Demo"
   ]
  },
  {
   "cell_type": "code",
   "execution_count": 1,
   "metadata": {},
   "outputs": [],
   "source": [
    "import requests\n",
    "import pandas as pd\n",
    "\n",
    "import matplotlib\n",
    "import matplotlib.pyplot as plt \n",
    "from pandas.plotting import register_matplotlib_converters\n",
    "from matplotlib.dates import DateFormatter\n",
    "\n",
    "register_matplotlib_converters()"
   ]
  },
  {
   "cell_type": "markdown",
   "metadata": {},
   "source": [
    "## API Setup"
   ]
  },
  {
   "cell_type": "code",
   "execution_count": 2,
   "metadata": {},
   "outputs": [],
   "source": [
    "api_key = 'YOUR_API_KEY_HERE'\n",
    "\n",
    "headers = {\n",
    "  'Content-Type': 'application/json',\n",
    "  'Accept': 'application/json'\n",
    "}"
   ]
  },
  {
   "cell_type": "markdown",
   "metadata": {},
   "source": [
    "### API Parameters for Crop Health Fetch"
   ]
  },
  {
   "cell_type": "code",
   "execution_count": 3,
   "metadata": {},
   "outputs": [],
   "source": [
    "geo_id = '19071'\n",
    "country_iso = 'USA'\n",
    "start_date = '2018-01-01'\n",
    "end_date = '2020-03-25'\n",
    "crop = 'corn'\n",
    "geo_level = 'level_3'\n",
    "# Crop health index and the 5 year median\n",
    "metric = 'TELLUSCHIN,TLCHIN5YMN'"
   ]
  },
  {
   "cell_type": "markdown",
   "metadata": {},
   "source": [
    "### API Request using 'metrics' Endpoint"
   ]
  },
  {
   "cell_type": "markdown",
   "metadata": {},
   "source": [
    "You can use this method if you know which metric(s) you want."
   ]
  },
  {
   "cell_type": "code",
   "execution_count": 4,
   "metadata": {},
   "outputs": [],
   "source": [
    "crop_health_request = requests.get('https://api.kernel.telluslabs.com/api/v1/metrics/', \n",
    "                           params={'geo_id': geo_id,\n",
    "                                   'country_iso': country_iso,\n",
    "                                   'geo_level': geo_level,                      \n",
    "                                   'start_date': start_date,\n",
    "                                   'end_date': end_date,\n",
    "                                   'crop': crop,\n",
    "                                   'metric_code': metric,\n",
    "                                   'api_key': api_key},\n",
    "                           headers={'Accept': 'text/csv'})\n"
   ]
  },
  {
   "cell_type": "markdown",
   "metadata": {},
   "source": [
    "### Get Results"
   ]
  },
  {
   "cell_type": "code",
   "execution_count": 5,
   "metadata": {},
   "outputs": [
    {
     "data": {
      "text/html": [
       "<div>\n",
       "<style scoped>\n",
       "    .dataframe tbody tr th:only-of-type {\n",
       "        vertical-align: middle;\n",
       "    }\n",
       "\n",
       "    .dataframe tbody tr th {\n",
       "        vertical-align: top;\n",
       "    }\n",
       "\n",
       "    .dataframe thead th {\n",
       "        text-align: right;\n",
       "    }\n",
       "</style>\n",
       "<table border=\"1\" class=\"dataframe\">\n",
       "  <thead>\n",
       "    <tr style=\"text-align: right;\">\n",
       "      <th></th>\n",
       "      <th>crop</th>\n",
       "      <th>country_iso</th>\n",
       "      <th>geo_level</th>\n",
       "      <th>geo_id</th>\n",
       "      <th>geo_display_name</th>\n",
       "      <th>metric_date</th>\n",
       "      <th>TELLUSCHIN</th>\n",
       "      <th>TLCHIN5YMN</th>\n",
       "    </tr>\n",
       "  </thead>\n",
       "  <tbody>\n",
       "    <tr>\n",
       "      <th>0</th>\n",
       "      <td>corn</td>\n",
       "      <td>USA</td>\n",
       "      <td>level_3</td>\n",
       "      <td>19071</td>\n",
       "      <td>NaN</td>\n",
       "      <td>2018-01-01</td>\n",
       "      <td>0.030862</td>\n",
       "      <td>0.037160</td>\n",
       "    </tr>\n",
       "    <tr>\n",
       "      <th>1</th>\n",
       "      <td>corn</td>\n",
       "      <td>USA</td>\n",
       "      <td>level_3</td>\n",
       "      <td>19071</td>\n",
       "      <td>NaN</td>\n",
       "      <td>2018-01-02</td>\n",
       "      <td>0.016218</td>\n",
       "      <td>0.033700</td>\n",
       "    </tr>\n",
       "    <tr>\n",
       "      <th>2</th>\n",
       "      <td>corn</td>\n",
       "      <td>USA</td>\n",
       "      <td>level_3</td>\n",
       "      <td>19071</td>\n",
       "      <td>NaN</td>\n",
       "      <td>2018-01-03</td>\n",
       "      <td>0.002114</td>\n",
       "      <td>0.028995</td>\n",
       "    </tr>\n",
       "    <tr>\n",
       "      <th>3</th>\n",
       "      <td>corn</td>\n",
       "      <td>USA</td>\n",
       "      <td>level_3</td>\n",
       "      <td>19071</td>\n",
       "      <td>NaN</td>\n",
       "      <td>2018-01-04</td>\n",
       "      <td>-0.001558</td>\n",
       "      <td>0.024185</td>\n",
       "    </tr>\n",
       "    <tr>\n",
       "      <th>4</th>\n",
       "      <td>corn</td>\n",
       "      <td>USA</td>\n",
       "      <td>level_3</td>\n",
       "      <td>19071</td>\n",
       "      <td>NaN</td>\n",
       "      <td>2018-01-05</td>\n",
       "      <td>-0.004554</td>\n",
       "      <td>0.024105</td>\n",
       "    </tr>\n",
       "    <tr>\n",
       "      <th>5</th>\n",
       "      <td>corn</td>\n",
       "      <td>USA</td>\n",
       "      <td>level_3</td>\n",
       "      <td>19071</td>\n",
       "      <td>NaN</td>\n",
       "      <td>2018-01-06</td>\n",
       "      <td>-0.003922</td>\n",
       "      <td>0.030394</td>\n",
       "    </tr>\n",
       "    <tr>\n",
       "      <th>6</th>\n",
       "      <td>corn</td>\n",
       "      <td>USA</td>\n",
       "      <td>level_3</td>\n",
       "      <td>19071</td>\n",
       "      <td>NaN</td>\n",
       "      <td>2018-01-07</td>\n",
       "      <td>-0.003020</td>\n",
       "      <td>0.035985</td>\n",
       "    </tr>\n",
       "    <tr>\n",
       "      <th>7</th>\n",
       "      <td>corn</td>\n",
       "      <td>USA</td>\n",
       "      <td>level_3</td>\n",
       "      <td>19071</td>\n",
       "      <td>NaN</td>\n",
       "      <td>2018-01-08</td>\n",
       "      <td>-0.001900</td>\n",
       "      <td>0.037554</td>\n",
       "    </tr>\n",
       "    <tr>\n",
       "      <th>8</th>\n",
       "      <td>corn</td>\n",
       "      <td>USA</td>\n",
       "      <td>level_3</td>\n",
       "      <td>19071</td>\n",
       "      <td>NaN</td>\n",
       "      <td>2018-01-09</td>\n",
       "      <td>-0.001570</td>\n",
       "      <td>0.037911</td>\n",
       "    </tr>\n",
       "    <tr>\n",
       "      <th>9</th>\n",
       "      <td>corn</td>\n",
       "      <td>USA</td>\n",
       "      <td>level_3</td>\n",
       "      <td>19071</td>\n",
       "      <td>NaN</td>\n",
       "      <td>2018-01-10</td>\n",
       "      <td>-0.001006</td>\n",
       "      <td>0.040166</td>\n",
       "    </tr>\n",
       "  </tbody>\n",
       "</table>\n",
       "</div>"
      ],
      "text/plain": [
       "   crop country_iso geo_level  geo_id  geo_display_name metric_date  \\\n",
       "0  corn         USA   level_3   19071               NaN  2018-01-01   \n",
       "1  corn         USA   level_3   19071               NaN  2018-01-02   \n",
       "2  corn         USA   level_3   19071               NaN  2018-01-03   \n",
       "3  corn         USA   level_3   19071               NaN  2018-01-04   \n",
       "4  corn         USA   level_3   19071               NaN  2018-01-05   \n",
       "5  corn         USA   level_3   19071               NaN  2018-01-06   \n",
       "6  corn         USA   level_3   19071               NaN  2018-01-07   \n",
       "7  corn         USA   level_3   19071               NaN  2018-01-08   \n",
       "8  corn         USA   level_3   19071               NaN  2018-01-09   \n",
       "9  corn         USA   level_3   19071               NaN  2018-01-10   \n",
       "\n",
       "   TELLUSCHIN  TLCHIN5YMN  \n",
       "0    0.030862    0.037160  \n",
       "1    0.016218    0.033700  \n",
       "2    0.002114    0.028995  \n",
       "3   -0.001558    0.024185  \n",
       "4   -0.004554    0.024105  \n",
       "5   -0.003922    0.030394  \n",
       "6   -0.003020    0.035985  \n",
       "7   -0.001900    0.037554  \n",
       "8   -0.001570    0.037911  \n",
       "9   -0.001006    0.040166  "
      ]
     },
     "execution_count": 5,
     "metadata": {},
     "output_type": "execute_result"
    }
   ],
   "source": [
    "crop_health = pd.read_csv(pd.compat.StringIO(crop_health_request.text), sep=\",\")\n",
    "crop_health['metric_date']= pd.to_datetime(crop_health['metric_date']) \n",
    "\n",
    "crop_health.head(10)"
   ]
  },
  {
   "cell_type": "markdown",
   "metadata": {},
   "source": [
    "### Crop Health Curve"
   ]
  },
  {
   "cell_type": "code",
   "execution_count": 6,
   "metadata": {},
   "outputs": [
    {
     "data": {
      "image/png": "[encoded data removed]",
      "text/plain": [
       "<Figure size 720x720 with 1 Axes>"
      ]
     },
     "metadata": {
      "needs_background": "light"
     },
     "output_type": "display_data"
    }
   ],
   "source": [
    "# Create figure and plot space\n",
    "fig, ax = plt.subplots(figsize=(10, 10))\n",
    "ax.plot(\"metric_date\", 'TELLUSCHIN', data=crop_health, color='teal')\n",
    "\n",
    "# Set title and labels for axes\n",
    "ax.set(xlabel=\"Date\",\n",
    "       ylabel=\"Crop Health Index\",\n",
    "       title=\"Crop Health Fremont, Iowa\"\n",
    "      )\n",
    "# Define the date format\n",
    "date_form = DateFormatter(\"%b-%Y\")\n",
    "ax.xaxis.set_major_formatter(date_form)\n",
    "\n",
    "plt.show()"
   ]
  },
  {
   "cell_type": "markdown",
   "metadata": {},
   "source": [
    "### Outcomes - Example using the 'metrics' Endpoint"
   ]
  },
  {
   "cell_type": "code",
   "execution_count": 7,
   "metadata": {},
   "outputs": [],
   "source": [
    "country_iso = 'BRA'\n",
    "start_date = '2019-12-01'\n",
    "end_date = '2020-03-31'\n",
    "crop = 'corn'\n",
    "geo_level = 'level_1'\n",
    "in_yield = 'INBRCRM1WK'\n"
   ]
  },
  {
   "cell_type": "markdown",
   "metadata": {},
   "source": [
    "### API Request"
   ]
  },
  {
   "cell_type": "code",
   "execution_count": 8,
   "metadata": {},
   "outputs": [],
   "source": [
    "outcomes_request = requests.get('https://api.kernel.telluslabs.com/api/v1/metrics/', \n",
    "                           params={'country_iso': country_iso,\n",
    "                                   'geo_level': geo_level,                      \n",
    "                                   'start_date': start_date,\n",
    "                                   'end_date': end_date,\n",
    "                                   'crop': crop,\n",
    "                                   'metric_code': in_yield,\n",
    "                                   'api_key': api_key},\n",
    "                           headers={'Accept': 'text/csv'})"
   ]
  },
  {
   "cell_type": "markdown",
   "metadata": {},
   "source": [
    "### Check which data are returned"
   ]
  },
  {
   "cell_type": "code",
   "execution_count": 9,
   "metadata": {},
   "outputs": [
    {
     "data": {
      "text/html": [
       "<div>\n",
       "<style scoped>\n",
       "    .dataframe tbody tr th:only-of-type {\n",
       "        vertical-align: middle;\n",
       "    }\n",
       "\n",
       "    .dataframe tbody tr th {\n",
       "        vertical-align: top;\n",
       "    }\n",
       "\n",
       "    .dataframe thead th {\n",
       "        text-align: right;\n",
       "    }\n",
       "</style>\n",
       "<table border=\"1\" class=\"dataframe\">\n",
       "  <thead>\n",
       "    <tr style=\"text-align: right;\">\n",
       "      <th></th>\n",
       "      <th>crop</th>\n",
       "      <th>country_iso</th>\n",
       "      <th>geo_level</th>\n",
       "      <th>geo_id</th>\n",
       "      <th>geo_display_name</th>\n",
       "      <th>metric_date</th>\n",
       "      <th>INBRCRM1WK</th>\n",
       "    </tr>\n",
       "  </thead>\n",
       "  <tbody>\n",
       "    <tr>\n",
       "      <th>0</th>\n",
       "      <td>corn</td>\n",
       "      <td>BRA</td>\n",
       "      <td>level_1</td>\n",
       "      <td>0</td>\n",
       "      <td>NaN</td>\n",
       "      <td>2019-12-10</td>\n",
       "      <td>5.51465</td>\n",
       "    </tr>\n",
       "    <tr>\n",
       "      <th>1</th>\n",
       "      <td>corn</td>\n",
       "      <td>BRA</td>\n",
       "      <td>level_1</td>\n",
       "      <td>0</td>\n",
       "      <td>NaN</td>\n",
       "      <td>2019-12-17</td>\n",
       "      <td>5.51465</td>\n",
       "    </tr>\n",
       "    <tr>\n",
       "      <th>2</th>\n",
       "      <td>corn</td>\n",
       "      <td>BRA</td>\n",
       "      <td>level_1</td>\n",
       "      <td>0</td>\n",
       "      <td>NaN</td>\n",
       "      <td>2019-12-24</td>\n",
       "      <td>5.51465</td>\n",
       "    </tr>\n",
       "    <tr>\n",
       "      <th>3</th>\n",
       "      <td>corn</td>\n",
       "      <td>BRA</td>\n",
       "      <td>level_1</td>\n",
       "      <td>0</td>\n",
       "      <td>NaN</td>\n",
       "      <td>2019-12-31</td>\n",
       "      <td>5.49758</td>\n",
       "    </tr>\n",
       "    <tr>\n",
       "      <th>4</th>\n",
       "      <td>corn</td>\n",
       "      <td>BRA</td>\n",
       "      <td>level_1</td>\n",
       "      <td>0</td>\n",
       "      <td>NaN</td>\n",
       "      <td>2020-01-07</td>\n",
       "      <td>5.38006</td>\n",
       "    </tr>\n",
       "    <tr>\n",
       "      <th>5</th>\n",
       "      <td>corn</td>\n",
       "      <td>BRA</td>\n",
       "      <td>level_1</td>\n",
       "      <td>0</td>\n",
       "      <td>NaN</td>\n",
       "      <td>2020-01-14</td>\n",
       "      <td>5.29850</td>\n",
       "    </tr>\n",
       "    <tr>\n",
       "      <th>6</th>\n",
       "      <td>corn</td>\n",
       "      <td>BRA</td>\n",
       "      <td>level_1</td>\n",
       "      <td>0</td>\n",
       "      <td>NaN</td>\n",
       "      <td>2020-01-21</td>\n",
       "      <td>5.33937</td>\n",
       "    </tr>\n",
       "    <tr>\n",
       "      <th>7</th>\n",
       "      <td>corn</td>\n",
       "      <td>BRA</td>\n",
       "      <td>level_1</td>\n",
       "      <td>0</td>\n",
       "      <td>NaN</td>\n",
       "      <td>2020-01-28</td>\n",
       "      <td>5.36394</td>\n",
       "    </tr>\n",
       "    <tr>\n",
       "      <th>8</th>\n",
       "      <td>corn</td>\n",
       "      <td>BRA</td>\n",
       "      <td>level_1</td>\n",
       "      <td>0</td>\n",
       "      <td>NaN</td>\n",
       "      <td>2020-02-04</td>\n",
       "      <td>5.40437</td>\n",
       "    </tr>\n",
       "    <tr>\n",
       "      <th>9</th>\n",
       "      <td>corn</td>\n",
       "      <td>BRA</td>\n",
       "      <td>level_1</td>\n",
       "      <td>0</td>\n",
       "      <td>NaN</td>\n",
       "      <td>2020-02-11</td>\n",
       "      <td>5.44539</td>\n",
       "    </tr>\n",
       "  </tbody>\n",
       "</table>\n",
       "</div>"
      ],
      "text/plain": [
       "   crop country_iso geo_level  geo_id  geo_display_name metric_date  \\\n",
       "0  corn         BRA   level_1       0               NaN  2019-12-10   \n",
       "1  corn         BRA   level_1       0               NaN  2019-12-17   \n",
       "2  corn         BRA   level_1       0               NaN  2019-12-24   \n",
       "3  corn         BRA   level_1       0               NaN  2019-12-31   \n",
       "4  corn         BRA   level_1       0               NaN  2020-01-07   \n",
       "5  corn         BRA   level_1       0               NaN  2020-01-14   \n",
       "6  corn         BRA   level_1       0               NaN  2020-01-21   \n",
       "7  corn         BRA   level_1       0               NaN  2020-01-28   \n",
       "8  corn         BRA   level_1       0               NaN  2020-02-04   \n",
       "9  corn         BRA   level_1       0               NaN  2020-02-11   \n",
       "\n",
       "   INBRCRM1WK  \n",
       "0     5.51465  \n",
       "1     5.51465  \n",
       "2     5.51465  \n",
       "3     5.49758  \n",
       "4     5.38006  \n",
       "5     5.29850  \n",
       "6     5.33937  \n",
       "7     5.36394  \n",
       "8     5.40437  \n",
       "9     5.44539  "
      ]
     },
     "execution_count": 9,
     "metadata": {},
     "output_type": "execute_result"
    }
   ],
   "source": [
    "# outcomes_request.json()['result']\n",
    "indigo_yield = pd.read_csv(pd.compat.StringIO(outcomes_request.text), sep=\",\")\n",
    "indigo_yield['metric_date']= pd.to_datetime(indigo_yield['metric_date']) \n",
    "indigo_yield.head(10)"
   ]
  },
  {
   "cell_type": "markdown",
   "metadata": {},
   "source": [
    "### Get the Indigo 2020 Yield Model for Brazil Corn"
   ]
  },
  {
   "cell_type": "markdown",
   "metadata": {},
   "source": [
    "### Plot"
   ]
  },
  {
   "cell_type": "code",
   "execution_count": 10,
   "metadata": {},
   "outputs": [
    {
     "data": {
      "image/png": "[encoded data removed]",
      "text/plain": [
       "<Figure size 432x288 with 1 Axes>"
      ]
     },
     "metadata": {
      "needs_background": "light"
     },
     "output_type": "display_data"
    }
   ],
   "source": [
    "fig = plt.figure()\n",
    "ax = fig.add_axes([0,0,1,1])\n",
    "ax.bar(indigo_yield['metric_date'],indigo_yield['INBRCRM1WK'], color = 'purple')\n",
    "       \n",
    "plt.xticks(rotation=45)\n",
    "plt.title('BRAZIL Corn Predictions 2020')\n",
    "\n",
    "plt.show()"
   ]
  },
  {
   "cell_type": "markdown",
   "metadata": {},
   "source": [
    "## Zambia Corn "
   ]
  },
  {
   "cell_type": "markdown",
   "metadata": {},
   "source": [
    "##### Getting data from a specific endpoint and parsing it a little differently as another option."
   ]
  },
  {
   "cell_type": "code",
   "execution_count": 11,
   "metadata": {},
   "outputs": [],
   "source": [
    "country_iso = 'ZMB'\n",
    "start_date = '2010-01-01'\n",
    "end_date = '2020-04-09'\n",
    "crop = 'corn'\n",
    "geo_level = 'level_1'\n",
    "metric = 'TELLUSCHIN'"
   ]
  },
  {
   "cell_type": "code",
   "execution_count": 12,
   "metadata": {},
   "outputs": [],
   "source": [
    "crop_health_request = requests.get(' https://api.kernel.telluslabs.com/api/v1/plant_health/', \n",
    "                           params={'country_iso': country_iso,\n",
    "                                   'geo_level': geo_level,                      \n",
    "                                   'start_date': start_date,\n",
    "                                   'end_date': end_date,\n",
    "                                   'crop': crop,\n",
    "                                   'metric_code': metric,\n",
    "                                   'api_key': api_key},\n",
    "                           headers = headers)\n",
    "\n"
   ]
  },
  {
   "cell_type": "code",
   "execution_count": 13,
   "metadata": {},
   "outputs": [
    {
     "data": {
      "text/html": [
       "<div>\n",
       "<style scoped>\n",
       "    .dataframe tbody tr th:only-of-type {\n",
       "        vertical-align: middle;\n",
       "    }\n",
       "\n",
       "    .dataframe tbody tr th {\n",
       "        vertical-align: top;\n",
       "    }\n",
       "\n",
       "    .dataframe thead th {\n",
       "        text-align: right;\n",
       "    }\n",
       "</style>\n",
       "<table border=\"1\" class=\"dataframe\">\n",
       "  <thead>\n",
       "    <tr style=\"text-align: right;\">\n",
       "      <th></th>\n",
       "      <th>metric_date</th>\n",
       "      <th>CHI</th>\n",
       "    </tr>\n",
       "  </thead>\n",
       "  <tbody>\n",
       "    <tr>\n",
       "      <th>0</th>\n",
       "      <td>2010-01-01</td>\n",
       "      <td>0.332005</td>\n",
       "    </tr>\n",
       "    <tr>\n",
       "      <th>1</th>\n",
       "      <td>2010-01-02</td>\n",
       "      <td>0.333513</td>\n",
       "    </tr>\n",
       "    <tr>\n",
       "      <th>2</th>\n",
       "      <td>2010-01-03</td>\n",
       "      <td>0.336008</td>\n",
       "    </tr>\n",
       "    <tr>\n",
       "      <th>3</th>\n",
       "      <td>2010-01-04</td>\n",
       "      <td>0.338197</td>\n",
       "    </tr>\n",
       "    <tr>\n",
       "      <th>4</th>\n",
       "      <td>2010-01-05</td>\n",
       "      <td>0.341823</td>\n",
       "    </tr>\n",
       "    <tr>\n",
       "      <th>5</th>\n",
       "      <td>2010-01-06</td>\n",
       "      <td>0.348819</td>\n",
       "    </tr>\n",
       "    <tr>\n",
       "      <th>6</th>\n",
       "      <td>2010-01-07</td>\n",
       "      <td>0.356171</td>\n",
       "    </tr>\n",
       "    <tr>\n",
       "      <th>7</th>\n",
       "      <td>2010-01-08</td>\n",
       "      <td>0.362443</td>\n",
       "    </tr>\n",
       "    <tr>\n",
       "      <th>8</th>\n",
       "      <td>2010-01-09</td>\n",
       "      <td>0.368968</td>\n",
       "    </tr>\n",
       "    <tr>\n",
       "      <th>9</th>\n",
       "      <td>2010-01-10</td>\n",
       "      <td>0.374592</td>\n",
       "    </tr>\n",
       "  </tbody>\n",
       "</table>\n",
       "</div>"
      ],
      "text/plain": [
       "  metric_date       CHI\n",
       "0  2010-01-01  0.332005\n",
       "1  2010-01-02  0.333513\n",
       "2  2010-01-03  0.336008\n",
       "3  2010-01-04  0.338197\n",
       "4  2010-01-05  0.341823\n",
       "5  2010-01-06  0.348819\n",
       "6  2010-01-07  0.356171\n",
       "7  2010-01-08  0.362443\n",
       "8  2010-01-09  0.368968\n",
       "9  2010-01-10  0.374592"
      ]
     },
     "execution_count": 13,
     "metadata": {},
     "output_type": "execute_result"
    }
   ],
   "source": [
    "crop_health = pd.DataFrame.from_records(crop_health_request.json()['result'][0]['data'][metric], columns=['metric_date', 'CHI'])\n",
    "crop_health['metric_date']= pd.to_datetime(crop_health['metric_date']) \n",
    "crop_health.head(10)"
   ]
  },
  {
   "cell_type": "code",
   "execution_count": 14,
   "metadata": {},
   "outputs": [
    {
     "data": {
      "image/png": "[encoded data removed]",
      "text/plain": [
       "<Figure size 720x720 with 1 Axes>"
      ]
     },
     "metadata": {
      "needs_background": "light"
     },
     "output_type": "display_data"
    }
   ],
   "source": [
    "# Create figure and plot space\n",
    "fig, ax = plt.subplots(figsize=(10, 10))\n",
    "ax.plot(\"metric_date\", 'CHI', data=crop_health, color='teal')\n",
    "\n",
    "# Set title and labels for axes\n",
    "ax.set(xlabel=\"Date\",\n",
    "       ylabel=\"Crop Health Index\",\n",
    "       title=\"Crop Health - Zambia Corn\"\n",
    "      )\n",
    "# Define the date format\n",
    "date_form = DateFormatter(\"%b-%Y\")\n",
    "ax.xaxis.set_major_formatter(date_form)\n",
    "\n",
    "plt.show()"
   ]
  }
 ],
 "metadata": {
  "kernelspec": {
   "display_name": "Python 3",
   "language": "python",
   "name": "python3"
  },
  "language_info": {
   "codemirror_mode": {
    "name": "ipython",
    "version": 3
   },
   "file_extension": ".py",
   "mimetype": "text/x-python",
   "name": "python",
   "nbconvert_exporter": "python",
   "pygments_lexer": "ipython3",
   "version": "3.7.2"
  }
 },
 "nbformat": 4,
 "nbformat_minor": 4
}
